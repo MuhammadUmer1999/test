{
  "nbformat": 4,
  "nbformat_minor": 0,
  "metadata": {
    "colab": {
      "provenance": [],
      "authorship_tag": "ABX9TyOIajHj1vyVJVwO93dOgID8"
    },
    "kernelspec": {
      "name": "python3",
      "display_name": "Python 3"
    },
    "language_info": {
      "name": "python"
    }
  },
  "cells": [
    {
      "cell_type": "code",
      "execution_count": 41,
      "metadata": {
        "id": "bG65MMqcEkDz"
      },
      "outputs": [],
      "source": [
        "from sklearn.datasets import make_classification\n",
        "import numpy as np\n",
        "X, y = make_classification(n_samples=100, n_features=2, n_informative=1,n_redundant=0,\n",
        "                           n_classes=2, n_clusters_per_class=1, random_state=41,hypercube=False,class_sep=10)"
      ]
    },
    {
      "cell_type": "code",
      "source": [
        "X"
      ],
      "metadata": {
        "colab": {
          "base_uri": "https://localhost:8080/"
        },
        "id": "UaTofXLRGrf8",
        "outputId": "b5748de8-1054-465e-8721-bb02a19323c9"
      },
      "execution_count": 42,
      "outputs": [
        {
          "output_type": "execute_result",
          "data": {
            "text/plain": [
              "array([[ 0.19924745, -0.11697552],\n",
              "       [-0.24882029, -0.73115232],\n",
              "       [-0.3544904 , -0.7081059 ],\n",
              "       [-1.59086506, -2.01199214],\n",
              "       [-0.20083951,  1.63493163],\n",
              "       [-0.83241122,  0.15599044],\n",
              "       [-1.79207014,  1.07782053],\n",
              "       [ 0.0856607 ,  0.80626713],\n",
              "       [-0.55865299,  0.74859527],\n",
              "       [-1.95974262,  0.75152794],\n",
              "       [-1.77828947, -0.90114581],\n",
              "       [-1.77985853, -0.1815243 ],\n",
              "       [-0.02194151, -2.98092432],\n",
              "       [ 0.80563431,  1.20500136],\n",
              "       [-1.82701214,  0.78302407],\n",
              "       [ 0.38730728,  0.42968688],\n",
              "       [-0.14108668, -0.73229726],\n",
              "       [-1.87955941, -0.83930476],\n",
              "       [-0.18232911,  0.83727062],\n",
              "       [-1.77059533, -0.10255323],\n",
              "       [-2.27658028,  0.65867001],\n",
              "       [-2.06519502,  0.92649819],\n",
              "       [-1.31690551,  0.10216193],\n",
              "       [ 1.61043259,  0.46886454],\n",
              "       [-1.21650394,  0.45432938],\n",
              "       [ 0.6139723 ,  1.8613386 ],\n",
              "       [-1.78760957, -0.79255991],\n",
              "       [-1.04149161, -1.0004391 ],\n",
              "       [-2.40067584, -0.53814137],\n",
              "       [-1.80383452,  0.44027716],\n",
              "       [-1.44075613,  0.27047889],\n",
              "       [ 1.34989978, -0.75869267],\n",
              "       [ 0.22520167,  0.6802322 ],\n",
              "       [ 0.53688527,  0.17018845],\n",
              "       [ 0.55483459, -1.01121977],\n",
              "       [-0.32178185, -0.8394709 ],\n",
              "       [-0.98821248,  0.90327412],\n",
              "       [ 0.67394805,  1.16981747],\n",
              "       [-1.60913592,  0.53461406],\n",
              "       [ 0.75727194, -0.22100631],\n",
              "       [-1.32591376, -0.64584571],\n",
              "       [-0.91783293,  0.21243302],\n",
              "       [-1.35578147,  0.98654083],\n",
              "       [ 1.46869659,  0.67382928],\n",
              "       [-0.80540713, -0.11323563],\n",
              "       [ 1.08059816,  0.91694693],\n",
              "       [ 0.14667326,  0.3645213 ],\n",
              "       [-1.37324548, -0.78470874],\n",
              "       [-1.09742089, -1.48004137],\n",
              "       [-0.92017476,  0.72931763],\n",
              "       [ 0.22020513, -0.60000139],\n",
              "       [-0.3515292 ,  0.14720034],\n",
              "       [-1.42135667,  0.35215601],\n",
              "       [ 0.94415309,  0.17388705],\n",
              "       [ 2.14488191, -0.17162755],\n",
              "       [-1.52699536,  0.03763193],\n",
              "       [ 1.0347932 ,  0.48360467],\n",
              "       [-2.05551135, -0.07909256],\n",
              "       [-1.33241395,  0.06158897],\n",
              "       [-0.10615042, -1.20413846],\n",
              "       [ 0.89910594,  0.77324391],\n",
              "       [-1.32152694,  0.7640092 ],\n",
              "       [-1.96489671,  1.57200032],\n",
              "       [ 0.97099786,  0.47296516],\n",
              "       [ 0.0520771 ,  0.0642074 ],\n",
              "       [-0.66393984,  1.52469135],\n",
              "       [-1.8937672 , -2.1450828 ],\n",
              "       [ 0.5941446 , -0.7701428 ],\n",
              "       [-1.55261523,  0.84455766],\n",
              "       [-0.9998803 ,  1.29753064],\n",
              "       [-2.39664251, -0.84276652],\n",
              "       [ 0.27537438,  2.0615874 ],\n",
              "       [ 1.0723376 , -0.3036533 ],\n",
              "       [-1.4577388 , -0.1656085 ],\n",
              "       [ 1.06667457,  1.16969713],\n",
              "       [ 0.67498344, -0.3038555 ],\n",
              "       [-2.18254559, -0.4788978 ],\n",
              "       [ 0.96395115,  0.28128262],\n",
              "       [-1.3155857 ,  0.70412341],\n",
              "       [ 0.7158603 ,  0.3757601 ],\n",
              "       [-0.16186654,  0.97247545],\n",
              "       [ 1.341869  ,  0.56868381],\n",
              "       [-1.46023043, -0.39767934],\n",
              "       [ 1.37645492, -1.08933729],\n",
              "       [-0.35770727, -1.81663939],\n",
              "       [-1.8640534 ,  1.41775924],\n",
              "       [-1.7826468 ,  0.27098296],\n",
              "       [-1.18927817, -0.56186639],\n",
              "       [ 0.26654845,  0.42168159],\n",
              "       [-1.28809059, -2.95373116],\n",
              "       [ 0.75163482,  0.19492133],\n",
              "       [ 1.16254252, -0.04578681],\n",
              "       [-1.15890056, -0.18860967],\n",
              "       [-1.48693688,  0.44635682],\n",
              "       [ 0.75292818, -1.49814775],\n",
              "       [-2.12332717,  0.66198774],\n",
              "       [-1.53599817,  0.07153265],\n",
              "       [-1.46034714,  0.32323638],\n",
              "       [ 0.83626582, -0.34574201],\n",
              "       [-0.26570627,  0.06499922]])"
            ]
          },
          "metadata": {},
          "execution_count": 42
        }
      ]
    },
    {
      "cell_type": "code",
      "source": [
        "X[84]\n"
      ],
      "metadata": {
        "colab": {
          "base_uri": "https://localhost:8080/"
        },
        "id": "BsX0-Fx9Vdmr",
        "outputId": "90591190-b1f6-445c-9122-97e307a3e57f"
      },
      "execution_count": 43,
      "outputs": [
        {
          "output_type": "execute_result",
          "data": {
            "text/plain": [
              "array([-0.35770727, -1.81663939])"
            ]
          },
          "metadata": {},
          "execution_count": 43
        }
      ]
    },
    {
      "cell_type": "code",
      "source": [
        "y\n"
      ],
      "metadata": {
        "colab": {
          "base_uri": "https://localhost:8080/"
        },
        "id": "18kN6gUVVdbv",
        "outputId": "71202872-0e59-4fdf-e9bf-072669ef5683"
      },
      "execution_count": 44,
      "outputs": [
        {
          "output_type": "execute_result",
          "data": {
            "text/plain": [
              "array([1, 1, 1, 0, 1, 0, 0, 1, 1, 0, 0, 0, 1, 1, 0, 1, 1, 0, 1, 0, 0, 0,\n",
              "       0, 1, 0, 1, 0, 0, 0, 0, 0, 1, 1, 1, 1, 1, 0, 1, 0, 1, 0, 0, 0, 1,\n",
              "       0, 1, 1, 0, 0, 0, 1, 1, 0, 1, 1, 0, 1, 0, 0, 1, 1, 0, 0, 1, 1, 1,\n",
              "       0, 1, 0, 0, 0, 1, 1, 0, 1, 1, 0, 1, 0, 1, 1, 1, 0, 1, 1, 0, 0, 0,\n",
              "       1, 0, 1, 1, 0, 0, 1, 0, 0, 0, 1, 1])"
            ]
          },
          "metadata": {},
          "execution_count": 44
        }
      ]
    },
    {
      "cell_type": "code",
      "source": [],
      "metadata": {
        "id": "xMA3hv6_VdOY"
      },
      "execution_count": 44,
      "outputs": []
    },
    {
      "cell_type": "code",
      "source": [
        "import matplotlib.pyplot as plt\n"
      ],
      "metadata": {
        "id": "u_f7DZrAG0Cu"
      },
      "execution_count": 45,
      "outputs": []
    },
    {
      "cell_type": "code",
      "source": [
        "plt.figure(figsize=(10,6))\n",
        "plt.scatter(X[:,0],X[:,1],c=y,cmap='winter',s=100)\n"
      ],
      "metadata": {
        "colab": {
          "base_uri": "https://localhost:8080/",
          "height": 419
        },
        "id": "xhkRju2FHR1j",
        "outputId": "7e8fcac0-beb0-40c1-8a42-a3961921cf29"
      },
      "execution_count": 46,
      "outputs": [
        {
          "output_type": "execute_result",
          "data": {
            "text/plain": [
              "<matplotlib.collections.PathCollection at 0x784d0774a080>"
            ]
          },
          "metadata": {},
          "execution_count": 46
        },
        {
          "output_type": "display_data",
          "data": {
            "text/plain": [
              "<Figure size 1000x600 with 1 Axes>"
            ],
            "image/png": "[encoded data removed]"
          },
          "metadata": {}
        }
      ]
    },
    {
      "cell_type": "code",
      "source": [
        "X.shape"
      ],
      "metadata": {
        "colab": {
          "base_uri": "https://localhost:8080/"
        },
        "id": "t0PKp_4dHVk9",
        "outputId": "39b96a4d-288d-4854-b1b7-dad92e097b9f"
      },
      "execution_count": 47,
      "outputs": [
        {
          "output_type": "execute_result",
          "data": {
            "text/plain": [
              "(100, 2)"
            ]
          },
          "metadata": {},
          "execution_count": 47
        }
      ]
    },
    {
      "cell_type": "code",
      "source": [
        "y"
      ],
      "metadata": {
        "colab": {
          "base_uri": "https://localhost:8080/"
        },
        "id": "68OHNLScHfPh",
        "outputId": "a76b92b0-b797-419f-b2ed-4a7b596c7c92"
      },
      "execution_count": 48,
      "outputs": [
        {
          "output_type": "execute_result",
          "data": {
            "text/plain": [
              "array([1, 1, 1, 0, 1, 0, 0, 1, 1, 0, 0, 0, 1, 1, 0, 1, 1, 0, 1, 0, 0, 0,\n",
              "       0, 1, 0, 1, 0, 0, 0, 0, 0, 1, 1, 1, 1, 1, 0, 1, 0, 1, 0, 0, 0, 1,\n",
              "       0, 1, 1, 0, 0, 0, 1, 1, 0, 1, 1, 0, 1, 0, 0, 1, 1, 0, 0, 1, 1, 1,\n",
              "       0, 1, 0, 0, 0, 1, 1, 0, 1, 1, 0, 1, 0, 1, 1, 1, 0, 1, 1, 0, 0, 0,\n",
              "       1, 0, 1, 1, 0, 0, 1, 0, 0, 0, 1, 1])"
            ]
          },
          "metadata": {},
          "execution_count": 48
        }
      ]
    },
    {
      "cell_type": "code",
      "source": [
        "def perceptron(X,y):\n",
        "\n",
        "    X = np.insert(X,0,1,axis=1)\n",
        "    weights = np.ones(X.shape[1])\n",
        "    lr = 0.1\n",
        "\n",
        "    for i in range(1000):\n",
        "        j = np.random.randint(0,100)\n",
        "        y_hat = step(np.dot(X[j],weights))\n",
        "        weights = weights + lr*(y[j]-y_hat)*X[j]\n",
        "\n",
        "    return weights[0],weights[1:]"
      ],
      "metadata": {
        "id": "MiuE9CU1Hg3w"
      },
      "execution_count": 49,
      "outputs": []
    },
    {
      "cell_type": "code",
      "source": [
        "np.insert(X,0,1,axis=1)\n"
      ],
      "metadata": {
        "colab": {
          "base_uri": "https://localhost:8080/"
        },
        "id": "ix7B6ctjVlyq",
        "outputId": "9addf931-fc9d-4a9a-d64e-954f29dd3f25"
      },
      "execution_count": 50,
      "outputs": [
        {
          "output_type": "execute_result",
          "data": {
            "text/plain": [
              "array([[ 1.        ,  0.19924745, -0.11697552],\n",
              "       [ 1.        , -0.24882029, -0.73115232],\n",
              "       [ 1.        , -0.3544904 , -0.7081059 ],\n",
              "       [ 1.        , -1.59086506, -2.01199214],\n",
              "       [ 1.        , -0.20083951,  1.63493163],\n",
              "       [ 1.        , -0.83241122,  0.15599044],\n",
              "       [ 1.        , -1.79207014,  1.07782053],\n",
              "       [ 1.        ,  0.0856607 ,  0.80626713],\n",
              "       [ 1.        , -0.55865299,  0.74859527],\n",
              "       [ 1.        , -1.95974262,  0.75152794],\n",
              "       [ 1.        , -1.77828947, -0.90114581],\n",
              "       [ 1.        , -1.77985853, -0.1815243 ],\n",
              "       [ 1.        , -0.02194151, -2.98092432],\n",
              "       [ 1.        ,  0.80563431,  1.20500136],\n",
              "       [ 1.        , -1.82701214,  0.78302407],\n",
              "       [ 1.        ,  0.38730728,  0.42968688],\n",
              "       [ 1.        , -0.14108668, -0.73229726],\n",
              "       [ 1.        , -1.87955941, -0.83930476],\n",
              "       [ 1.        , -0.18232911,  0.83727062],\n",
              "       [ 1.        , -1.77059533, -0.10255323],\n",
              "       [ 1.        , -2.27658028,  0.65867001],\n",
              "       [ 1.        , -2.06519502,  0.92649819],\n",
              "       [ 1.        , -1.31690551,  0.10216193],\n",
              "       [ 1.        ,  1.61043259,  0.46886454],\n",
              "       [ 1.        , -1.21650394,  0.45432938],\n",
              "       [ 1.        ,  0.6139723 ,  1.8613386 ],\n",
              "       [ 1.        , -1.78760957, -0.79255991],\n",
              "       [ 1.        , -1.04149161, -1.0004391 ],\n",
              "       [ 1.        , -2.40067584, -0.53814137],\n",
              "       [ 1.        , -1.80383452,  0.44027716],\n",
              "       [ 1.        , -1.44075613,  0.27047889],\n",
              "       [ 1.        ,  1.34989978, -0.75869267],\n",
              "       [ 1.        ,  0.22520167,  0.6802322 ],\n",
              "       [ 1.        ,  0.53688527,  0.17018845],\n",
              "       [ 1.        ,  0.55483459, -1.01121977],\n",
              "       [ 1.        , -0.32178185, -0.8394709 ],\n",
              "       [ 1.        , -0.98821248,  0.90327412],\n",
              "       [ 1.        ,  0.67394805,  1.16981747],\n",
              "       [ 1.        , -1.60913592,  0.53461406],\n",
              "       [ 1.        ,  0.75727194, -0.22100631],\n",
              "       [ 1.        , -1.32591376, -0.64584571],\n",
              "       [ 1.        , -0.91783293,  0.21243302],\n",
              "       [ 1.        , -1.35578147,  0.98654083],\n",
              "       [ 1.        ,  1.46869659,  0.67382928],\n",
              "       [ 1.        , -0.80540713, -0.11323563],\n",
              "       [ 1.        ,  1.08059816,  0.91694693],\n",
              "       [ 1.        ,  0.14667326,  0.3645213 ],\n",
              "       [ 1.        , -1.37324548, -0.78470874],\n",
              "       [ 1.        , -1.09742089, -1.48004137],\n",
              "       [ 1.        , -0.92017476,  0.72931763],\n",
              "       [ 1.        ,  0.22020513, -0.60000139],\n",
              "       [ 1.        , -0.3515292 ,  0.14720034],\n",
              "       [ 1.        , -1.42135667,  0.35215601],\n",
              "       [ 1.        ,  0.94415309,  0.17388705],\n",
              "       [ 1.        ,  2.14488191, -0.17162755],\n",
              "       [ 1.        , -1.52699536,  0.03763193],\n",
              "       [ 1.        ,  1.0347932 ,  0.48360467],\n",
              "       [ 1.        , -2.05551135, -0.07909256],\n",
              "       [ 1.        , -1.33241395,  0.06158897],\n",
              "       [ 1.        , -0.10615042, -1.20413846],\n",
              "       [ 1.        ,  0.89910594,  0.77324391],\n",
              "       [ 1.        , -1.32152694,  0.7640092 ],\n",
              "       [ 1.        , -1.96489671,  1.57200032],\n",
              "       [ 1.        ,  0.97099786,  0.47296516],\n",
              "       [ 1.        ,  0.0520771 ,  0.0642074 ],\n",
              "       [ 1.        , -0.66393984,  1.52469135],\n",
              "       [ 1.        , -1.8937672 , -2.1450828 ],\n",
              "       [ 1.        ,  0.5941446 , -0.7701428 ],\n",
              "       [ 1.        , -1.55261523,  0.84455766],\n",
              "       [ 1.        , -0.9998803 ,  1.29753064],\n",
              "       [ 1.        , -2.39664251, -0.84276652],\n",
              "       [ 1.        ,  0.27537438,  2.0615874 ],\n",
              "       [ 1.        ,  1.0723376 , -0.3036533 ],\n",
              "       [ 1.        , -1.4577388 , -0.1656085 ],\n",
              "       [ 1.        ,  1.06667457,  1.16969713],\n",
              "       [ 1.        ,  0.67498344, -0.3038555 ],\n",
              "       [ 1.        , -2.18254559, -0.4788978 ],\n",
              "       [ 1.        ,  0.96395115,  0.28128262],\n",
              "       [ 1.        , -1.3155857 ,  0.70412341],\n",
              "       [ 1.        ,  0.7158603 ,  0.3757601 ],\n",
              "       [ 1.        , -0.16186654,  0.97247545],\n",
              "       [ 1.        ,  1.341869  ,  0.56868381],\n",
              "       [ 1.        , -1.46023043, -0.39767934],\n",
              "       [ 1.        ,  1.37645492, -1.08933729],\n",
              "       [ 1.        , -0.35770727, -1.81663939],\n",
              "       [ 1.        , -1.8640534 ,  1.41775924],\n",
              "       [ 1.        , -1.7826468 ,  0.27098296],\n",
              "       [ 1.        , -1.18927817, -0.56186639],\n",
              "       [ 1.        ,  0.26654845,  0.42168159],\n",
              "       [ 1.        , -1.28809059, -2.95373116],\n",
              "       [ 1.        ,  0.75163482,  0.19492133],\n",
              "       [ 1.        ,  1.16254252, -0.04578681],\n",
              "       [ 1.        , -1.15890056, -0.18860967],\n",
              "       [ 1.        , -1.48693688,  0.44635682],\n",
              "       [ 1.        ,  0.75292818, -1.49814775],\n",
              "       [ 1.        , -2.12332717,  0.66198774],\n",
              "       [ 1.        , -1.53599817,  0.07153265],\n",
              "       [ 1.        , -1.46034714,  0.32323638],\n",
              "       [ 1.        ,  0.83626582, -0.34574201],\n",
              "       [ 1.        , -0.26570627,  0.06499922]])"
            ]
          },
          "metadata": {},
          "execution_count": 50
        }
      ]
    },
    {
      "cell_type": "code",
      "source": [
        "np.ones(3)\n"
      ],
      "metadata": {
        "colab": {
          "base_uri": "https://localhost:8080/"
        },
        "id": "nW8B6LvxVlvP",
        "outputId": "f971c6a0-c486-4fe0-9375-853c36acdffc"
      },
      "execution_count": 51,
      "outputs": [
        {
          "output_type": "execute_result",
          "data": {
            "text/plain": [
              "array([1., 1., 1.])"
            ]
          },
          "metadata": {},
          "execution_count": 51
        }
      ]
    },
    {
      "cell_type": "code",
      "source": [
        "np.random.randint(0,100)\n"
      ],
      "metadata": {
        "colab": {
          "base_uri": "https://localhost:8080/"
        },
        "id": "eGcUAhKrVtqn",
        "outputId": "d9704422-1379-488f-b1dc-efed29363783"
      },
      "execution_count": 52,
      "outputs": [
        {
          "output_type": "execute_result",
          "data": {
            "text/plain": [
              "95"
            ]
          },
          "metadata": {},
          "execution_count": 52
        }
      ]
    },
    {
      "cell_type": "code",
      "source": [
        "np.insert(X[84],0,1)\n"
      ],
      "metadata": {
        "colab": {
          "base_uri": "https://localhost:8080/"
        },
        "id": "SFM1i9ryVthP",
        "outputId": "ecb0e742-b28f-49a2-d9dc-9ce19d4aaf6e"
      },
      "execution_count": 53,
      "outputs": [
        {
          "output_type": "execute_result",
          "data": {
            "text/plain": [
              "array([ 1.        , -0.35770727, -1.81663939])"
            ]
          },
          "metadata": {},
          "execution_count": 53
        }
      ]
    },
    {
      "cell_type": "code",
      "source": [
        "np.dot(np.insert(X[84],0,1),[1,1,1])\n"
      ],
      "metadata": {
        "colab": {
          "base_uri": "https://localhost:8080/"
        },
        "id": "pa52NQVSV1Gn",
        "outputId": "eec4ef9d-9b19-4944-b3a0-5632d5c2cc4e"
      },
      "execution_count": 54,
      "outputs": [
        {
          "output_type": "execute_result",
          "data": {
            "text/plain": [
              "-1.1743466649289587"
            ]
          },
          "metadata": {},
          "execution_count": 54
        }
      ]
    },
    {
      "cell_type": "code",
      "source": [],
      "metadata": {
        "id": "s1IE_C1MV07x"
      },
      "execution_count": 54,
      "outputs": []
    },
    {
      "cell_type": "code",
      "source": [
        "def step(z):\n",
        "    return 1 if z>0 else 0"
      ],
      "metadata": {
        "id": "hn5dCdscIk55"
      },
      "execution_count": 55,
      "outputs": []
    },
    {
      "cell_type": "code",
      "source": [
        "step(-1.1743466649289587)\n"
      ],
      "metadata": {
        "colab": {
          "base_uri": "https://localhost:8080/"
        },
        "id": "I20vC_3OV9tQ",
        "outputId": "4814baba-07d0-419a-ef63-464f3306b7ba"
      },
      "execution_count": 56,
      "outputs": [
        {
          "output_type": "execute_result",
          "data": {
            "text/plain": [
              "0"
            ]
          },
          "metadata": {},
          "execution_count": 56
        }
      ]
    },
    {
      "cell_type": "code",
      "source": [
        "intercept_,coef_ = perceptron(X,y)\n"
      ],
      "metadata": {
        "id": "B-_ZqqibL6ih"
      },
      "execution_count": 57,
      "outputs": []
    },
    {
      "cell_type": "code",
      "source": [
        "print(coef_)\n",
        "print(intercept_)"
      ],
      "metadata": {
        "colab": {
          "base_uri": "https://localhost:8080/"
        },
        "id": "-Lp8sxgQMXgm",
        "outputId": "01b0154b-cd77-4e41-c4a8-1d4ffe37c54a"
      },
      "execution_count": 58,
      "outputs": [
        {
          "output_type": "stream",
          "name": "stdout",
          "text": [
            "[1.32669824 0.14407201]\n",
            "0.9\n"
          ]
        }
      ]
    },
    {
      "cell_type": "code",
      "source": [
        "m = -(coef_[0]/coef_[1])\n",
        "b = -(intercept_/coef_[1])\n"
      ],
      "metadata": {
        "id": "EutyWb77NLsw"
      },
      "execution_count": 59,
      "outputs": []
    },
    {
      "cell_type": "code",
      "source": [
        "m"
      ],
      "metadata": {
        "colab": {
          "base_uri": "https://localhost:8080/"
        },
        "id": "tjavKbzDO2U4",
        "outputId": "98913882-7aef-4423-9f5d-637fd43b9674"
      },
      "execution_count": 60,
      "outputs": [
        {
          "output_type": "execute_result",
          "data": {
            "text/plain": [
              "-9.208577173499242"
            ]
          },
          "metadata": {},
          "execution_count": 60
        }
      ]
    },
    {
      "cell_type": "code",
      "source": [
        "b"
      ],
      "metadata": {
        "colab": {
          "base_uri": "https://localhost:8080/"
        },
        "id": "DQBrUGWlQaHr",
        "outputId": "ab7d989b-8667-48df-a442-f358015b5cd2"
      },
      "execution_count": 61,
      "outputs": [
        {
          "output_type": "execute_result",
          "data": {
            "text/plain": [
              "-6.2468760634512055"
            ]
          },
          "metadata": {},
          "execution_count": 61
        }
      ]
    },
    {
      "cell_type": "code",
      "source": [
        "x_input = np.linspace(-3,3,100)\n",
        "y_input = m*x_input + b"
      ],
      "metadata": {
        "id": "GzR_hvyVQalQ"
      },
      "execution_count": 62,
      "outputs": []
    },
    {
      "cell_type": "code",
      "source": [
        "plt.figure(figsize=(10,6))\n",
        "plt.plot(x_input,y_input,color='red',linewidth=3)\n",
        "plt.scatter(X[:,0],X[:,1],c=y,cmap='winter',s=100)\n",
        "plt.ylim(-3,2)"
      ],
      "metadata": {
        "colab": {
          "base_uri": "https://localhost:8080/",
          "height": 424
        },
        "id": "Ljb_i2uHQ_PU",
        "outputId": "731ebca5-5636-4820-d82b-bc8c8fb0cc58"
      },
      "execution_count": 63,
      "outputs": [
        {
          "output_type": "execute_result",
          "data": {
            "text/plain": [
              "(-3.0, 2.0)"
            ]
          },
          "metadata": {},
          "execution_count": 63
        },
        {
          "output_type": "display_data",
          "data": {
            "text/plain": [
              "<Figure size 1000x600 with 1 Axes>"
            ],
            "image/png": "[encoded data removed]"
          },
          "metadata": {}
        }
      ]
    },
    {
      "cell_type": "code",
      "source": [],
      "metadata": {
        "id": "jN8AKqWaRMjt"
      },
      "execution_count": 63,
      "outputs": []
    }
  ]
}